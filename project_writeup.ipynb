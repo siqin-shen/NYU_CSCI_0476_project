{
 "cells": [
  {
   "cell_type": "markdown",
   "id": "jewish-command",
   "metadata": {},
   "source": [
    "## NYU-CSCI-0476 Project Description and Process"
   ]
  },
  {
   "cell_type": "markdown",
   "id": "present-success",
   "metadata": {},
   "source": [
    "### Data Cleaning/ETL"
   ]
  },
  {
   "cell_type": "markdown",
   "id": "employed-detroit",
   "metadata": {},
   "source": [
    "For Tree Census Data, we used three MapReduce jobs for data cleaning and profiling. The first one is to split the original csv file with the delimiter \"comma\". And then the problem came, since there are some cells containing commas inside, when splitting, it will automatically split the values inside the cell with commas. And this results in longer-than-expected records and in the meanwhile, the longer records will have the fields dislocated. To be more specific, if one cell with comma inside is split, then this will result in two items, one in the original field, and the other one in the next field and pushes everything ahead. To fix this problem, we choose to drop all columns with length that is not 45. At the same time, we also dropped the unwanted column and there are only five columns left."
   ]
  },
  {
   "cell_type": "markdown",
   "id": "innovative-statistics",
   "metadata": {},
   "source": [
    "And then, we used another MapReduce job to count the abnormal length records, which are typically longer than 45. From our MapReduce result, it is clear the our data set originally has 683678 records and after splitting, the number is 623851.\n",
    "Next, when we do another data profiling to group all the data by the borough field, it happens that in the borough field, there are some numeric values instead of a string of borough name. We applied the isNumeric() function to the third MapReduce job to filter the entries that is not a borough name. And after doing so, when we redo the count records job, there are 611571 records left. In face, the number of records deleted is 72107, which is 10% of the original records, so that the cleaning will not fundamentally affect the result of our data analytic."
   ]
  },
  {
   "cell_type": "markdown",
   "id": "upper-brother",
   "metadata": {},
   "source": [
    "### Data Analysis"
   ]
  },
  {
   "cell_type": "markdown",
   "id": "center-bubble",
   "metadata": {},
   "source": [
    "After I cleaned the data set and made it into only five columns, the analytic became much more easier.For this data set, we mainly considered the healthy level of trees, the life status of trees, and the borough where the trees located in. And since there are two factors together to determine the final score of each borough, we shall split this scoring into two parts: positive for the number of good healthy trees, and negative for the number of poor health or dead trees. The more good healthy trees are, the higher the score is; while the more poor or dead trees are, the lower the score is. Therefore, there are the two split assessments and we shall begin with the positive one.\n",
    "But before we move on, we need to first count the total number of trees in each borough and the number divided by the area of each borough in $km^{2}$ (a.k.a the distribution of trees)."
   ]
  },
  {
   "cell_type": "markdown",
   "id": "spectacular-coral",
   "metadata": {},
   "source": [
    "![title](Images/total.png)"
   ]
  },
  {
   "cell_type": "markdown",
   "id": "grateful-employer",
   "metadata": {},
   "source": [
    "It is clear from the figure above, to simply count the total number of trees in each borough, Queens won and it goes beyond other boroughs by a very large quantity. While we divided by the area of each borough, Manhattan has the highest distribution of trees among all the five boroughs. Although Queens has the highest amount of trees, it does not have the highest distribution of trees."
   ]
  },
  {
   "cell_type": "markdown",
   "id": "typical-application",
   "metadata": {},
   "source": [
    "Good Healthy Trees:"
   ]
  },
  {
   "cell_type": "markdown",
   "id": "improved-alexander",
   "metadata": {},
   "source": [
    "![title](Images/good.png)"
   ]
  },
  {
   "cell_type": "markdown",
   "id": "exposed-alexander",
   "metadata": {},
   "source": [
    "From the figure above, when we count the number of trees in good healthy in each borough, Queens won again and it goes beyond other boroughs by a very large quantity. While we divided by the area of each borough, Manhattan has the highest distribution of trees again among all the five boroughs. Although Queens has the highest amount of good trees, it does not have the highest distribution of good health trees."
   ]
  },
  {
   "cell_type": "markdown",
   "id": "professional-vector",
   "metadata": {},
   "source": [
    "![title](Images/alive.png)"
   ]
  },
  {
   "cell_type": "markdown",
   "id": "ordered-spectrum",
   "metadata": {},
   "source": [
    "And similarly from figure above, when we count the number of alive trees in each borough, Queens won the third time and it goes beyond other boroughs by a very large quantity. While we divided by the area of each borough, Manhattan has the highest distribution of trees the third time among all the five boroughs. Although Queens has the highest amount of alive trees, it does not have the highest distribution of alive trees."
   ]
  },
  {
   "cell_type": "markdown",
   "id": "sudden-financing",
   "metadata": {},
   "source": [
    "Poor Health Trees:"
   ]
  },
  {
   "cell_type": "markdown",
   "id": "genetic-jacksonville",
   "metadata": {},
   "source": [
    "![title](Images/poor.png)"
   ]
  },
  {
   "cell_type": "markdown",
   "id": "together-picking",
   "metadata": {},
   "source": [
    "As shown in figure above, Manhattan has the highest poor health tree distribution, although it do not have the highest number of poor health trees. The area of each borough plays a very important role in determining whether or not this borough has a high distribution of good/poor health trees as one might feel in the positive score part. And after Manhattan, Brooklyn has the second highest density of poor health trees. The reason why these to boroughs has such high rate of poor healthy trees might be that the number of cars and the amount of pollution in these two boroughs are higher than that in the other ones."
   ]
  },
  {
   "cell_type": "markdown",
   "id": "accepted-compression",
   "metadata": {},
   "source": [
    "![title](Images/stump.png)"
   ]
  },
  {
   "cell_type": "markdown",
   "id": "turned-warner",
   "metadata": {},
   "source": [
    "Similarly as we can see from the figure above，Manhattan has the highest stump tree distribution, although it do not have the highest number of stump trees. The second highest distribution of stump trees lies in Bronx. We are not sure about the formation of stump trees and why there are a lot of stump trees in Manhattan and Bronx, but it is clear that the stump trees cannot be considered as good healthy trees."
   ]
  },
  {
   "cell_type": "markdown",
   "id": "eight-distinction",
   "metadata": {},
   "source": [
    "![title](Images/dead.png)"
   ]
  },
  {
   "cell_type": "markdown",
   "id": "therapeutic-extension",
   "metadata": {},
   "source": [
    "As is shown in figure above, Manhattan again has the highest number of dead trees. We guess the main reason is that Manhattan is always on construction, and the trees are deeply influenced by the construction work. Also Queens has the second highest distribution of dead trees, and the reason why it has such a lot dead trees remains unknown. Staten Island has the lowest density of dead trees, which suggests that it might have better air quality and water quality than the other four boroughs. "
   ]
  },
  {
   "cell_type": "markdown",
   "id": "concrete-portal",
   "metadata": {},
   "source": [
    "From all the results above, both positive part and negative part, we decided to add the positive parts with a coefficient 2 and subtract the negative part with a coefficient 1, and finally we could get a primary score for each borough with respect to the tree quality. Also from the graph obtained from behance.net, it shows directly the distribution of all trees in the five borough. This map generally agrees with our result."
   ]
  },
  {
   "cell_type": "markdown",
   "id": "exempt-cooperative",
   "metadata": {},
   "source": [
    "And here is the final scores for the five borough regarding the health level of trees:"
   ]
  },
  {
   "cell_type": "markdown",
   "id": "starting-stretch",
   "metadata": {},
   "source": [
    "* Brooklyn(score 5): Second highest tree distribution, good health tree distribution, and alive tree distribution; relatively low stump tree distribution, dead tree distribution, and poor health tree distribution.\n",
    "* Manhattan(score 4): Highest highest tree distribution, good health tree distribution, and alive tree distribution; relatively low stump tree distribution, dead tree distribution, and poor health tree distribution.\n",
    "* Queens(score 3): Relatively high tree distribution, good health tree distribution, and alive tree distribution; relatively high stump tree distribution, dead tree distribution, and poor health tree distribution.\n",
    "* Staten Island(score 2): Relatively low tree distribution, good health tree distribution, and alive tree distribution; relatively high stump tree distribution, dead tree distribution, and poor health tree distribution.\n",
    "* Bronx(score 1): Low tree distribution, good health tree distribution, and alive tree distribution; relatively high stump tree distribution, dead tree distribution, and poor health tree distribution."
   ]
  },
  {
   "cell_type": "code",
   "execution_count": null,
   "id": "shaped-accused",
   "metadata": {},
   "outputs": [],
   "source": []
  }
 ],
 "metadata": {
  "kernelspec": {
   "display_name": "Python 3",
   "language": "python",
   "name": "python3"
  },
  "language_info": {
   "codemirror_mode": {
    "name": "ipython",
    "version": 3
   },
   "file_extension": ".py",
   "mimetype": "text/x-python",
   "name": "python",
   "nbconvert_exporter": "python",
   "pygments_lexer": "ipython3",
   "version": "3.9.2"
  }
 },
 "nbformat": 4,
 "nbformat_minor": 5
}
